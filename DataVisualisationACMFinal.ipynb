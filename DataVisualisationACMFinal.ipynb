{
  "nbformat": 4,
  "nbformat_minor": 0,
  "metadata": {
    "colab": {
      "provenance": [],
      "collapsed_sections": []
    },
    "kernelspec": {
      "name": "python3",
      "display_name": "Python 3"
    },
    "language_info": {
      "name": "python"
    }
  },
  "cells": [
    {
      "cell_type": "code",
      "source": [
        "from google.colab import drive\n",
        "drive.mount"
      ],
      "metadata": {
        "colab": {
          "base_uri": "https://localhost:8080/"
        },
        "id": "aX1neCELLlbm",
        "outputId": "5763eacf-d821-4994-d942-e1c28a270d1d"
      },
      "execution_count": null,
      "outputs": [
        {
          "output_type": "execute_result",
          "data": {
            "text/plain": [
              "<function google.colab.drive.mount>"
            ]
          },
          "metadata": {},
          "execution_count": 1
        }
      ]
    },
    {
      "cell_type": "code",
      "source": [
        "from google.colab import drive\n",
        "drive.mount('/content/drive')"
      ],
      "metadata": {
        "id": "sKtMgdBB0EkK",
        "colab": {
          "base_uri": "https://localhost:8080/"
        },
        "outputId": "df561427-a920-4b48-8f68-96669972f4b8"
      },
      "execution_count": null,
      "outputs": [
        {
          "output_type": "stream",
          "name": "stdout",
          "text": [
            "Mounted at /content/drive\n"
          ]
        }
      ]
    },
    {
      "cell_type": "code",
      "source": [
        "import csv\n",
        "import os\n",
        "from PIL import Image\n",
        "\n",
        "root=\"/content/drive/MyDrive/human-and-non-human/training_set/training_set\"\n",
        "f=open(\"dim.csv\",'w')\n",
        "writer=csv.writer(f)\n",
        "writer.writerow(['height','width'])\n",
        "for folder in os.listdir(root):\n",
        "  for file in os.listdir(root+'/'+folder):\n",
        "    try:\n",
        "      img=Image.open(root+'/'+folder+'/'+file)\n",
        "      # get width and height\n",
        "      width = img.width\n",
        "      height = img.height\n",
        "      writer.writerow([height,width])\n",
        "    except Exception:\n",
        "      pass"
      ],
      "metadata": {
        "id": "StgsuTngNmJ0"
      },
      "execution_count": null,
      "outputs": []
    },
    {
      "cell_type": "code",
      "source": [
        "import pandas as pd\n",
        "import matplotlib.pyplot as plt\n",
        "df=pd.read_csv(\"dim.csv\")\n",
        "x=df['height']\n",
        "y=df['width']\n",
        "plt.scatter(x,y, c=\"blue\")\n",
        "plt.xlabel(\"heigth\")\n",
        "plt.ylabel(\"width\")\n",
        "plt.show"
      ],
      "metadata": {
        "colab": {
          "base_uri": "https://localhost:8080/",
          "height": 297
        },
        "id": "q8UDO9owTgsp",
        "outputId": "b82ab0b6-be09-48a5-ccd1-86a5beb0a436"
      },
      "execution_count": null,
      "outputs": [
        {
          "output_type": "execute_result",
          "data": {
            "text/plain": [
              "<function matplotlib.pyplot.show>"
            ]
          },
          "metadata": {},
          "execution_count": 4
        },
        {
          "output_type": "display_data",
          "data": {
            "text/plain": [
              "<Figure size 432x288 with 1 Axes>"
            ],
            "image/png": "[encoded data removed]"
          },
          "metadata": {
            "needs_background": "light"
          }
        }
      ]
    },
    {
      "cell_type": "code",
      "source": [
        "#Data Visualization for the extracted training set"
      ],
      "metadata": {
        "id": "fE_GEfBhNp04"
      },
      "execution_count": null,
      "outputs": []
    },
    {
      "cell_type": "code",
      "source": [
        "height=[]\n",
        "width=[]\n",
        "for file in os.listdir(\"/content/drive/MyDrive/profilepic\"):\n",
        "  pic=Image.open(\"/content/drive/MyDrive/profilepic/\"+file)\n",
        "  height.append(pic.height)\n",
        "  width.append(pic.width)"
      ],
      "metadata": {
        "id": "H1bddGEfKRo1"
      },
      "execution_count": null,
      "outputs": []
    },
    {
      "cell_type": "code",
      "source": [
        "plt.scatter(height,width, c='green')\n",
        "plt.xlabel(\"heigth\")\n",
        "plt.ylabel(\"width\")\n",
        "plt.show"
      ],
      "metadata": {
        "colab": {
          "base_uri": "https://localhost:8080/",
          "height": 297
        },
        "id": "TENJcgnlLXWy",
        "outputId": "881819d5-a5c7-41a4-ea93-54e60b86bbb1"
      },
      "execution_count": null,
      "outputs": [
        {
          "output_type": "execute_result",
          "data": {
            "text/plain": [
              "<function matplotlib.pyplot.show>"
            ]
          },
          "metadata": {},
          "execution_count": 7
        },
        {
          "output_type": "display_data",
          "data": {
            "text/plain": [
              "<Figure size 432x288 with 1 Axes>"
            ],
            "image/png": "[encoded data removed]"
          },
          "metadata": {
            "needs_background": "light"
          }
        }
      ]
    }
  ]
}